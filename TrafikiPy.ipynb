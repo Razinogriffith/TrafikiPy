{
 "cells": [
  {
   "cell_type": "code",
   "execution_count": 20,
   "metadata": {},
   "outputs": [],
   "source": [
    "# ----------------------------------------------------------------------\n",
    "# **Part 1: File Set Up**\n",
    "# ----------------------------------------------------------------------\n",
    "\n",
    "#===========DEPENDENCIES=============\n",
    "import matplotlib.pyplot as plt\n",
    "import pandas as pd\n",
    "import numpy as np\n",
    "import os\n",
    "import seaborn as sns\n",
    "import requests\n",
    "\n",
    "pd.set_option('display.max_columns', None)"
   ]
  },
  {
   "cell_type": "code",
   "execution_count": 21,
   "metadata": {},
   "outputs": [],
   "source": [
    "#============IMPORT==============\n",
    "csv_file_path = os.path.join('Resources', 'accidents_2014.csv')\n",
    "traffic_df = pd.read_csv(csv_file_path)"
   ]
  },
  {
   "cell_type": "code",
   "execution_count": 22,
   "metadata": {},
   "outputs": [
    {
     "data": {
      "text/html": [
       "<div>\n",
       "<style scoped>\n",
       "    .dataframe tbody tr th:only-of-type {\n",
       "        vertical-align: middle;\n",
       "    }\n",
       "\n",
       "    .dataframe tbody tr th {\n",
       "        vertical-align: top;\n",
       "    }\n",
       "\n",
       "    .dataframe thead th {\n",
       "        text-align: right;\n",
       "    }\n",
       "</style>\n",
       "<table border=\"1\" class=\"dataframe\">\n",
       "  <thead>\n",
       "    <tr style=\"text-align: right;\">\n",
       "      <th></th>\n",
       "      <th>Accident Index</th>\n",
       "      <th>Longitude</th>\n",
       "      <th>Latitude</th>\n",
       "      <th>Police Force</th>\n",
       "      <th>Accident Severity</th>\n",
       "      <th>Number of Vehicles</th>\n",
       "      <th>Number of Casualties</th>\n",
       "      <th>Date</th>\n",
       "      <th>Day of Week</th>\n",
       "      <th>Time</th>\n",
       "      <th>Local Authority District</th>\n",
       "      <th>Local Authority Highway</th>\n",
       "      <th>1st Road Class</th>\n",
       "      <th>1st Road Number</th>\n",
       "      <th>Road Type</th>\n",
       "      <th>Speed Limit</th>\n",
       "      <th>Junction Control</th>\n",
       "      <th>2nd Road Class</th>\n",
       "      <th>2nd Road Number</th>\n",
       "      <th>Pedestrian Crossing Human Control</th>\n",
       "      <th>Pedestrian Crossing Physical Facilities</th>\n",
       "      <th>Light Conditions</th>\n",
       "      <th>Weather Conditions</th>\n",
       "      <th>Road Surface Conditions</th>\n",
       "      <th>Special Conditions at Site</th>\n",
       "      <th>Carriageway Hazards</th>\n",
       "      <th>Urban or Rural Area</th>\n",
       "      <th>Police Attended Scene of Accident</th>\n",
       "      <th>LSOA of Accident Location</th>\n",
       "      <th>Year</th>\n",
       "    </tr>\n",
       "  </thead>\n",
       "  <tbody>\n",
       "    <tr>\n",
       "      <th>0</th>\n",
       "      <td>201401BS70001</td>\n",
       "      <td>-0.206443</td>\n",
       "      <td>51.496345</td>\n",
       "      <td>1</td>\n",
       "      <td>3</td>\n",
       "      <td>2</td>\n",
       "      <td>1</td>\n",
       "      <td>2014-01-09</td>\n",
       "      <td>5</td>\n",
       "      <td>13:21</td>\n",
       "      <td>12</td>\n",
       "      <td>E09000020</td>\n",
       "      <td>3</td>\n",
       "      <td>315</td>\n",
       "      <td>Single carriageway</td>\n",
       "      <td>30</td>\n",
       "      <td>None</td>\n",
       "      <td>-1</td>\n",
       "      <td>0</td>\n",
       "      <td>None within 50 metres</td>\n",
       "      <td>No physical crossing within 50 meters</td>\n",
       "      <td>Daylight: Street light present</td>\n",
       "      <td>Raining without high winds</td>\n",
       "      <td>Wet/Damp</td>\n",
       "      <td>None</td>\n",
       "      <td>None</td>\n",
       "      <td>1</td>\n",
       "      <td>No</td>\n",
       "      <td>E01002814</td>\n",
       "      <td>2014</td>\n",
       "    </tr>\n",
       "    <tr>\n",
       "      <th>1</th>\n",
       "      <td>201401BS70006</td>\n",
       "      <td>-0.171308</td>\n",
       "      <td>51.495892</td>\n",
       "      <td>1</td>\n",
       "      <td>3</td>\n",
       "      <td>2</td>\n",
       "      <td>1</td>\n",
       "      <td>2014-01-09</td>\n",
       "      <td>5</td>\n",
       "      <td>8:50</td>\n",
       "      <td>12</td>\n",
       "      <td>E09000020</td>\n",
       "      <td>3</td>\n",
       "      <td>4</td>\n",
       "      <td>Single carriageway</td>\n",
       "      <td>30</td>\n",
       "      <td>Giveway or uncontrolled</td>\n",
       "      <td>3</td>\n",
       "      <td>4</td>\n",
       "      <td>None within 50 metres</td>\n",
       "      <td>Central refuge</td>\n",
       "      <td>Daylight: Street light present</td>\n",
       "      <td>Fine without high winds</td>\n",
       "      <td>Dry</td>\n",
       "      <td>None</td>\n",
       "      <td>None</td>\n",
       "      <td>1</td>\n",
       "      <td>Yes</td>\n",
       "      <td>E01002821</td>\n",
       "      <td>2014</td>\n",
       "    </tr>\n",
       "    <tr>\n",
       "      <th>2</th>\n",
       "      <td>201401BS70009</td>\n",
       "      <td>-0.201326</td>\n",
       "      <td>51.498245</td>\n",
       "      <td>1</td>\n",
       "      <td>3</td>\n",
       "      <td>2</td>\n",
       "      <td>1</td>\n",
       "      <td>2014-01-10</td>\n",
       "      <td>6</td>\n",
       "      <td>18:25</td>\n",
       "      <td>12</td>\n",
       "      <td>E09000020</td>\n",
       "      <td>3</td>\n",
       "      <td>315</td>\n",
       "      <td>Single carriageway</td>\n",
       "      <td>30</td>\n",
       "      <td>Giveway or uncontrolled</td>\n",
       "      <td>6</td>\n",
       "      <td>0</td>\n",
       "      <td>None within 50 metres</td>\n",
       "      <td>No physical crossing within 50 meters</td>\n",
       "      <td>Darkness: Street lights present and lit</td>\n",
       "      <td>Fine without high winds</td>\n",
       "      <td>Wet/Damp</td>\n",
       "      <td>None</td>\n",
       "      <td>None</td>\n",
       "      <td>1</td>\n",
       "      <td>Yes</td>\n",
       "      <td>E01002817</td>\n",
       "      <td>2014</td>\n",
       "    </tr>\n",
       "    <tr>\n",
       "      <th>3</th>\n",
       "      <td>201401BS70011</td>\n",
       "      <td>-0.207445</td>\n",
       "      <td>51.507511</td>\n",
       "      <td>1</td>\n",
       "      <td>3</td>\n",
       "      <td>2</td>\n",
       "      <td>1</td>\n",
       "      <td>2014-01-10</td>\n",
       "      <td>6</td>\n",
       "      <td>10:55</td>\n",
       "      <td>12</td>\n",
       "      <td>E09000020</td>\n",
       "      <td>5</td>\n",
       "      <td>0</td>\n",
       "      <td>Single carriageway</td>\n",
       "      <td>30</td>\n",
       "      <td>Giveway or uncontrolled</td>\n",
       "      <td>6</td>\n",
       "      <td>0</td>\n",
       "      <td>None within 50 metres</td>\n",
       "      <td>No physical crossing within 50 meters</td>\n",
       "      <td>Daylight: Street light present</td>\n",
       "      <td>Fine without high winds</td>\n",
       "      <td>Dry</td>\n",
       "      <td>None</td>\n",
       "      <td>None</td>\n",
       "      <td>1</td>\n",
       "      <td>Yes</td>\n",
       "      <td>E01002871</td>\n",
       "      <td>2014</td>\n",
       "    </tr>\n",
       "    <tr>\n",
       "      <th>4</th>\n",
       "      <td>201401BS70013</td>\n",
       "      <td>-0.179731</td>\n",
       "      <td>51.497822</td>\n",
       "      <td>1</td>\n",
       "      <td>3</td>\n",
       "      <td>2</td>\n",
       "      <td>1</td>\n",
       "      <td>2014-01-05</td>\n",
       "      <td>1</td>\n",
       "      <td>20:26</td>\n",
       "      <td>12</td>\n",
       "      <td>E09000020</td>\n",
       "      <td>5</td>\n",
       "      <td>0</td>\n",
       "      <td>Single carriageway</td>\n",
       "      <td>30</td>\n",
       "      <td>Giveway or uncontrolled</td>\n",
       "      <td>5</td>\n",
       "      <td>0</td>\n",
       "      <td>None within 50 metres</td>\n",
       "      <td>No physical crossing within 50 meters</td>\n",
       "      <td>Darkness: Street lights present and lit</td>\n",
       "      <td>Raining without high winds</td>\n",
       "      <td>Wet/Damp</td>\n",
       "      <td>None</td>\n",
       "      <td>None</td>\n",
       "      <td>1</td>\n",
       "      <td>Yes</td>\n",
       "      <td>E01002892</td>\n",
       "      <td>2014</td>\n",
       "    </tr>\n",
       "  </tbody>\n",
       "</table>\n",
       "</div>"
      ],
      "text/plain": [
       "  Accident Index  Longitude   Latitude  Police Force  Accident Severity  \\\n",
       "0  201401BS70001  -0.206443  51.496345             1                  3   \n",
       "1  201401BS70006  -0.171308  51.495892             1                  3   \n",
       "2  201401BS70009  -0.201326  51.498245             1                  3   \n",
       "3  201401BS70011  -0.207445  51.507511             1                  3   \n",
       "4  201401BS70013  -0.179731  51.497822             1                  3   \n",
       "\n",
       "   Number of Vehicles  Number of Casualties       Date  Day of Week   Time  \\\n",
       "0                   2                     1 2014-01-09            5  13:21   \n",
       "1                   2                     1 2014-01-09            5   8:50   \n",
       "2                   2                     1 2014-01-10            6  18:25   \n",
       "3                   2                     1 2014-01-10            6  10:55   \n",
       "4                   2                     1 2014-01-05            1  20:26   \n",
       "\n",
       "   Local Authority District Local Authority Highway  1st Road Class  \\\n",
       "0                        12               E09000020               3   \n",
       "1                        12               E09000020               3   \n",
       "2                        12               E09000020               3   \n",
       "3                        12               E09000020               5   \n",
       "4                        12               E09000020               5   \n",
       "\n",
       "   1st Road Number           Road Type  Speed Limit         Junction Control  \\\n",
       "0              315  Single carriageway           30                     None   \n",
       "1                4  Single carriageway           30  Giveway or uncontrolled   \n",
       "2              315  Single carriageway           30  Giveway or uncontrolled   \n",
       "3                0  Single carriageway           30  Giveway or uncontrolled   \n",
       "4                0  Single carriageway           30  Giveway or uncontrolled   \n",
       "\n",
       "   2nd Road Class  2nd Road Number Pedestrian Crossing Human Control  \\\n",
       "0              -1                0             None within 50 metres   \n",
       "1               3                4             None within 50 metres   \n",
       "2               6                0             None within 50 metres   \n",
       "3               6                0             None within 50 metres   \n",
       "4               5                0             None within 50 metres   \n",
       "\n",
       "  Pedestrian Crossing Physical Facilities  \\\n",
       "0   No physical crossing within 50 meters   \n",
       "1                          Central refuge   \n",
       "2   No physical crossing within 50 meters   \n",
       "3   No physical crossing within 50 meters   \n",
       "4   No physical crossing within 50 meters   \n",
       "\n",
       "                          Light Conditions          Weather Conditions  \\\n",
       "0           Daylight: Street light present  Raining without high winds   \n",
       "1           Daylight: Street light present     Fine without high winds   \n",
       "2  Darkness: Street lights present and lit     Fine without high winds   \n",
       "3           Daylight: Street light present     Fine without high winds   \n",
       "4  Darkness: Street lights present and lit  Raining without high winds   \n",
       "\n",
       "  Road Surface Conditions Special Conditions at Site Carriageway Hazards  \\\n",
       "0                Wet/Damp                       None                None   \n",
       "1                     Dry                       None                None   \n",
       "2                Wet/Damp                       None                None   \n",
       "3                     Dry                       None                None   \n",
       "4                Wet/Damp                       None                None   \n",
       "\n",
       "   Urban or Rural Area Police Attended Scene of Accident  \\\n",
       "0                    1                                No   \n",
       "1                    1                               Yes   \n",
       "2                    1                               Yes   \n",
       "3                    1                               Yes   \n",
       "4                    1                               Yes   \n",
       "\n",
       "  LSOA of Accident Location  Year  \n",
       "0                 E01002814  2014  \n",
       "1                 E01002821  2014  \n",
       "2                 E01002817  2014  \n",
       "3                 E01002871  2014  \n",
       "4                 E01002892  2014  "
      ]
     },
     "execution_count": 22,
     "metadata": {},
     "output_type": "execute_result"
    }
   ],
   "source": [
    "#============DROP BLANK COLUMNS===========\n",
    "\n",
    "traffic_df.dropna(\n",
    "    axis=1,\n",
    "    how='all',\n",
    "    inplace=True\n",
    ")\n",
    "\n",
    "#============DROP BLANK ROWS WITH BLANK VALUES==========\n",
    "\n",
    "traffic_df['Junction_Control'].replace(\n",
    "    np.nan, 'None', inplace=True)\n",
    "\n",
    "traffic_df.replace(\n",
    "    '', np.nan, inplace=True)\n",
    "\n",
    "traffic_df.replace(\n",
    "    'Unknown', np.nan, inplace=True)\n",
    "\n",
    "traffic_df.dropna(axis=0, inplace=True)\n",
    "\n",
    "#===========REPLACING ERRANT/MISPELLED VALUES===============\n",
    "\n",
    "traffic_df['Light_Conditions'].replace(\n",
    "    'Darkeness: No street lighting',\n",
    "    'Darkness: No street lighting', \n",
    "    inplace=True\n",
    ")\n",
    "\n",
    "traffic_df['Pedestrian_Crossing-Physical_Facilities'].replace(\n",
    "    'non-junction pedestrian crossing',\n",
    "    'Non-junction Pedestrian Crossing', \n",
    "    inplace=True\n",
    ")\n",
    "\n",
    "#===========RENAMING COLUMNS===============\n",
    "\n",
    "traffic_df.rename(columns=\n",
    "    {'Accident_Index' : 'Accident Index',\n",
    "     'Longitude' : 'Longitude', \n",
    "     'Latitude' : 'Latitude', \n",
    "     'Police_Force' : 'Police Force', \n",
    "     'Accident_Severity' : 'Accident Severity', \n",
    "     'Number_of_Vehicles' : 'Number of Vehicles', \n",
    "     'Number_of_Casualties' : 'Number of Casualties', \n",
    "     'Date' : 'Date', \n",
    "     'Day_of_Week' : 'Day of Week', \n",
    "     'Time' : 'Time', \n",
    "     'Local_Authority_(District)' : 'Local Authority District', \n",
    "     'Local_Authority_(Highway)' : 'Local Authority Highway', \n",
    "     '1st_Road_Class' : '1st Road Class', \n",
    "     '1st_Road_Number' : '1st Road Number', \n",
    "     'Road_Type' : 'Road Type', \n",
    "     'Speed_limit' : 'Speed Limit', \n",
    "     'Junction_Control' : 'Junction Control', \n",
    "     '2nd_Road_Class' : '2nd Road Class', \n",
    "     '2nd_Road_Number' : '2nd Road Number', \n",
    "     'Pedestrian_Crossing-Human_Control' : 'Pedestrian Crossing Human Control', \n",
    "     'Pedestrian_Crossing-Physical_Facilities' : 'Pedestrian Crossing Physical Facilities', \n",
    "     'Light_Conditions' : 'Light Conditions', \n",
    "     'Weather_Conditions' : 'Weather Conditions', \n",
    "     'Road_Surface_Conditions' : 'Road Surface Conditions', \n",
    "     'Special_Conditions_at_Site' : 'Special Conditions at Site', \n",
    "     'Carriageway_Hazards' : 'Carriageway Hazards', \n",
    "     'Urban_or_Rural_Area' : 'Urban or Rural Area', \n",
    "     'Did_Police_Officer_Attend_Scene_of_Accident' : 'Police Attended Scene of Accident', \n",
    "     'LSOA_of_Accident_Location' : 'LSOA of Accident Location', \n",
    "     'Year' : 'Year', \n",
    "    }, inplace=True)\n",
    "\n",
    "# format Date in Datetime format\n",
    "traffic_df['Date'] = pd.to_datetime(traffic_df['Date'], format='%d/%m/%y')\n",
    "\n",
    "# display cleaned file\n",
    "traffic_df.head()"
   ]
  },
  {
   "cell_type": "code",
   "execution_count": 23,
   "metadata": {},
   "outputs": [
    {
     "data": {
      "image/png": "[encoded data removed]",
      "text/plain": [
       "<matplotlib.figure.Figure at 0x1a14bca198>"
      ]
     },
     "metadata": {},
     "output_type": "display_data"
    },
    {
     "data": {
      "image/png": "[encoded data removed]",
      "text/plain": [
       "<matplotlib.figure.Figure at 0x1a1ebbc400>"
      ]
     },
     "metadata": {},
     "output_type": "display_data"
    },
    {
     "data": {
      "image/png": "[encoded data removed]",
      "text/plain": [
       "<matplotlib.figure.Figure at 0x1a16058d30>"
      ]
     },
     "metadata": {},
     "output_type": "display_data"
    },
    {
     "data": {
      "image/png": "[encoded data removed]",
      "text/plain": [
       "<matplotlib.figure.Figure at 0x1a16031cc0>"
      ]
     },
     "metadata": {},
     "output_type": "display_data"
    }
   ],
   "source": [
    "# ----------------------------------------------------------------------\n",
    "# **Part 2: Set up overall formatting**\n",
    "# ----------------------------------------------------------------------\n",
    "# create color palette with 12 colors (for use with monthly data)\n",
    "twelveColorPalette = sns.color_palette('hls', 12)\n",
    "twelve = sns.palplot(twelveColorPalette)\n",
    "\n",
    "# create color palette with 8 colors (for use with weather conditions)\n",
    "eightColorPalette = sns.color_palette('hls', 8)\n",
    "eight = sns.palplot(eightColorPalette)\n",
    "\n",
    "# create color palette with 5 colors (for use with road/light conditions)\n",
    "fiveColorPalette = sns.color_palette('hls', 5)\n",
    "five = sns.palplot(fiveColorPalette)\n",
    "\n",
    "# create color palette with 3 colors (for data by severity)\n",
    "threeColorPalette = sns.color_palette('hls', 3)\n",
    "three = sns.palplot(threeColorPalette)\n",
    "\n",
    "# display color palettes\n",
    "three\n",
    "five\n",
    "eight\n",
    "twelve"
   ]
  },
  {
   "cell_type": "markdown",
   "metadata": {},
   "source": [
    "# Weather and Severity Correlation "
   ]
  },
  {
   "cell_type": "code",
   "execution_count": 24,
   "metadata": {},
   "outputs": [
    {
     "data": {
      "image/png": "[encoded data removed]",
      "text/plain": [
       "<matplotlib.figure.Figure at 0x1a12f1e438>"
      ]
     },
     "metadata": {},
     "output_type": "display_data"
    }
   ],
   "source": [
    "grouper_1 = traffic_df[['Weather Conditions','Accident Severity']]\n",
    "weather_severity = grouper_1.groupby(by = 'Weather Conditions',as_index=False).sum()\n",
    "plt = sns.barplot(weather_severity['Accident Severity'],weather_severity['Weather Conditions'])"
   ]
  },
  {
   "cell_type": "markdown",
   "metadata": {},
   "source": [
    "# Severity and Weather Correlation"
   ]
  },
  {
   "cell_type": "code",
   "execution_count": 25,
   "metadata": {},
   "outputs": [
    {
     "data": {
      "image/png": "[encoded data removed]",
      "text/plain": [
       "<matplotlib.figure.Figure at 0x10eb7fe10>"
      ]
     },
     "metadata": {},
     "output_type": "display_data"
    }
   ],
   "source": [
    "grouper_a = traffic_df[['Weather Conditions','Accident Severity']]\n",
    "weather_severity_1 = grouper_a.groupby(by = 'Accident Severity',as_index=False).count()\n",
    "plt1 = sns.barplot(weather_severity_1['Accident Severity'],weather_severity_1['Weather Conditions'])"
   ]
  },
  {
   "cell_type": "markdown",
   "metadata": {},
   "source": [
    "# Light Condition and Severity Correlation"
   ]
  },
  {
   "cell_type": "code",
   "execution_count": 26,
   "metadata": {},
   "outputs": [
    {
     "data": {
      "image/png": "[encoded data removed]",
      "text/plain": [
       "<matplotlib.figure.Figure at 0x1a12b9ccf8>"
      ]
     },
     "metadata": {},
     "output_type": "display_data"
    }
   ],
   "source": [
    "grouper_2 = traffic_df[['Light Conditions','Accident Severity']]\n",
    "light_condition_severity = grouper_2.groupby(by = 'Light Conditions',as_index=False).sum()\n",
    "plt = sns.barplot(light_condition_severity['Accident Severity'],light_condition_severity['Light Conditions'])"
   ]
  },
  {
   "cell_type": "markdown",
   "metadata": {},
   "source": [
    "# Severity Condition and Light Condition"
   ]
  },
  {
   "cell_type": "code",
   "execution_count": 27,
   "metadata": {},
   "outputs": [
    {
     "data": {
      "image/png": "[encoded data removed]",
      "text/plain": [
       "<matplotlib.figure.Figure at 0x1a1320cb38>"
      ]
     },
     "metadata": {},
     "output_type": "display_data"
    }
   ],
   "source": [
    "grouper_b = traffic_df[['Light Conditions','Accident Severity']]\n",
    "light_condition_severity_1 = grouper_b.groupby(by = 'Accident Severity',as_index=False).count()\n",
    "plt = sns.barplot(light_condition_severity_1['Accident Severity'],light_condition_severity_1['Light Conditions'])"
   ]
  },
  {
   "cell_type": "markdown",
   "metadata": {},
   "source": [
    "# Road Type and Severity Correlation"
   ]
  },
  {
   "cell_type": "code",
   "execution_count": 28,
   "metadata": {},
   "outputs": [
    {
     "data": {
      "image/png": "[encoded data removed]",
      "text/plain": [
       "<matplotlib.figure.Figure at 0x1a12e2e748>"
      ]
     },
     "metadata": {},
     "output_type": "display_data"
    }
   ],
   "source": [
    "grouper_3 = traffic_df[['Road Type','Accident Severity']]\n",
    "road_type_severity = grouper_3.groupby(by = 'Road Type',as_index=False).sum()\n",
    "plt = sns.barplot(road_type_severity['Accident Severity'],road_type_severity['Road Type'])"
   ]
  },
  {
   "cell_type": "markdown",
   "metadata": {},
   "source": [
    "# Severity and Road Type Correlation"
   ]
  },
  {
   "cell_type": "code",
   "execution_count": 29,
   "metadata": {},
   "outputs": [
    {
     "data": {
      "image/png": "[encoded data removed]",
      "text/plain": [
       "<matplotlib.figure.Figure at 0x10e88b630>"
      ]
     },
     "metadata": {},
     "output_type": "display_data"
    }
   ],
   "source": [
    "grouper_c = traffic_df[['Road Type','Accident Severity']]\n",
    "road_type_severity_1 = grouper_c.groupby(by = 'Accident Severity',as_index=False).count()\n",
    "plt = sns.barplot(road_type_severity_1['Accident Severity'],road_type_severity_1['Road Type'])"
   ]
  },
  {
   "cell_type": "markdown",
   "metadata": {},
   "source": [
    "# Converting Weather Condition to Numbers "
   ]
  },
  {
   "cell_type": "code",
   "execution_count": 30,
   "metadata": {},
   "outputs": [],
   "source": [
    "weather_condition_number_list = []\n",
    "\n",
    "for condition in traffic_df['Weather Conditions']:\n",
    "    \n",
    "    if (condition == 'Fine without high winds'):\n",
    "        weather_condition_number_list.append(7)\n",
    "        \n",
    "    if (condition == 'Raining without high winds'):\n",
    "        weather_condition_number_list.append(6)\n",
    "        \n",
    "    if (condition == 'Raining with high winds'):\n",
    "        weather_condition_number_list.append(5)\n",
    "        \n",
    "    if (condition == 'Other'):\n",
    "        weather_condition_number_list.append(4)\n",
    "        \n",
    "    if (condition == 'Fine with high winds'):\n",
    "        weather_condition_number_list.append(3)\n",
    "        \n",
    "    if (condition == 'Fog or mist'):\n",
    "        weather_condition_number_list.append(2)\n",
    "    \n",
    "    if (condition == 'Snowing without high winds'):\n",
    "        weather_condition_number_list.append(1)\n",
    "        \n",
    "    if (condition == 'Snowing with high winds'):\n",
    "        weather_condition_number_list.append(0)"
   ]
  },
  {
   "cell_type": "markdown",
   "metadata": {},
   "source": [
    "# Converting Road Type to Numbers"
   ]
  },
  {
   "cell_type": "code",
   "execution_count": 31,
   "metadata": {},
   "outputs": [],
   "source": [
    "road_type_number_list = []\n",
    "\n",
    "traffic_df['Road Type'].value_counts()\n",
    "\n",
    "for road in traffic_df['Road Type']:\n",
    "    \n",
    "    if (road == 'Single carriageway'):\n",
    "        road_type_number_list.append(4)\n",
    "    \n",
    "    if (road == 'Dual carriageway'):\n",
    "        road_type_number_list.append(3)\n",
    "        \n",
    "    if (road == 'Roundabout'):\n",
    "        road_type_number_list.append(2)\n",
    "        \n",
    "    if (road == 'One way street'):\n",
    "        road_type_number_list.append(1)\n",
    "        \n",
    "    if (road == 'Slip road'):\n",
    "        road_type_number_list.append(0)"
   ]
  },
  {
   "cell_type": "markdown",
   "metadata": {},
   "source": [
    "# Light Conditions to Numbers"
   ]
  },
  {
   "cell_type": "code",
   "execution_count": 32,
   "metadata": {},
   "outputs": [],
   "source": [
    "light_condition_number_list = []\n",
    "\n",
    "for condition in traffic_df['Light Conditions']:\n",
    "    \n",
    "    if (condition == 'Daylight: Street light present'):\n",
    "        light_condition_number_list.append(4)\n",
    "\n",
    "    if (condition == 'Darkness: Street lights present and lit'):\n",
    "        light_condition_number_list.append(3)\n",
    "        \n",
    "    if (condition == 'Darkness: No street lighting'):\n",
    "        light_condition_number_list.append(2)\n",
    "        \n",
    "    if (condition == 'Darkness: Street lighting unknown'):\n",
    "        light_condition_number_list.append(1)\n",
    "        \n",
    "    if (condition == 'Darkness: Street lights present but unlit'):\n",
    "        light_condition_number_list.append(0)\n",
    "        "
   ]
  },
  {
   "cell_type": "code",
   "execution_count": 33,
   "metadata": {},
   "outputs": [],
   "source": [
    "training_data = pd.DataFrame({'Weather':weather_condition_number_list,\n",
    "                              'Road Type':road_type_number_list,\n",
    "                              'Light Condition':light_condition_number_list                          \n",
    "                              })\n"
   ]
  },
  {
   "cell_type": "markdown",
   "metadata": {},
   "source": [
    "# Test Data"
   ]
  },
  {
   "cell_type": "code",
   "execution_count": 34,
   "metadata": {
    "scrolled": true
   },
   "outputs": [],
   "source": [
    "import random    \n",
    "\n",
    "weather_testing = []\n",
    "road_testing = []\n",
    "light_testing = []\n",
    "\n",
    "for i in range (54147):    \n",
    "    weather_testing.append(random.randrange(0,8,1))  \n",
    "    road_testing.append(random.randrange(0,5,1))\n",
    "    light_testing.append(random.randrange(0,5,1))  \n",
    "  \n",
    "     "
   ]
  },
  {
   "cell_type": "code",
   "execution_count": 35,
   "metadata": {},
   "outputs": [],
   "source": [
    "test_data = []\n",
    "for i in range(54147):\n",
    "    temp=[]\n",
    "    temp.append(weather_testing[i])\n",
    "    temp.append(road_testing[i])\n",
    "    temp.append(light_testing[i])\n",
    "    test_data.append(temp)      "
   ]
  },
  {
   "cell_type": "markdown",
   "metadata": {},
   "source": [
    "# Training Algorithm"
   ]
  },
  {
   "cell_type": "code",
   "execution_count": 36,
   "metadata": {},
   "outputs": [],
   "source": [
    "X = training_data[['Weather','Road Type','Light Condition']]\n",
    "Y = traffic_df['Accident Severity']\n",
    "from sklearn.naive_bayes import GaussianNB\n",
    "clf = GaussianNB()\n",
    "clf.fit(X, Y)\n",
    "prediction = clf.predict(test_data)"
   ]
  },
  {
   "cell_type": "code",
   "execution_count": 39,
   "metadata": {},
   "outputs": [],
   "source": [
    "csv_data = pd.DataFrame({'Weather Conditions': weather_condition_number_list, \n",
    "                         'Road Type': road_type_number_list,\n",
    "                         'Light Condition': light_condition_number_list,\n",
    "                         'Severity': traffic_df['Accident Severity']\n",
    "                        })\n",
    "csv_data.to_csv('Resources/regression.csv')"
   ]
  },
  {
   "cell_type": "code",
   "execution_count": null,
   "metadata": {},
   "outputs": [],
   "source": []
  }
 ],
 "metadata": {
  "kernelspec": {
   "display_name": "Python 3",
   "language": "python",
   "name": "python3"
  },
  "language_info": {
   "codemirror_mode": {
    "name": "ipython",
    "version": 3
   },
   "file_extension": ".py",
   "mimetype": "text/x-python",
   "name": "python",
   "nbconvert_exporter": "python",
   "pygments_lexer": "ipython3",
   "version": "3.6.4"
  }
 },
 "nbformat": 4,
 "nbformat_minor": 2
}
